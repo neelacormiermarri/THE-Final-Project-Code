{
 "cells": [
  {
   "cell_type": "code",
   "execution_count": 1,
   "id": "7da16363",
   "metadata": {},
   "outputs": [
    {
     "data": {
      "text/html": [
       "<div>\n",
       "<style scoped>\n",
       "    .dataframe tbody tr th:only-of-type {\n",
       "        vertical-align: middle;\n",
       "    }\n",
       "\n",
       "    .dataframe tbody tr th {\n",
       "        vertical-align: top;\n",
       "    }\n",
       "\n",
       "    .dataframe thead th {\n",
       "        text-align: right;\n",
       "    }\n",
       "</style>\n",
       "<table border=\"1\" class=\"dataframe\">\n",
       "  <thead>\n",
       "    <tr style=\"text-align: right;\">\n",
       "      <th></th>\n",
       "      <th>geoid</th>\n",
       "      <th>name</th>\n",
       "      <th>year</th>\n",
       "      <th>total_est</th>\n",
       "      <th>total_se</th>\n",
       "      <th>aian_se</th>\n",
       "      <th>aian_est</th>\n",
       "      <th>api_se</th>\n",
       "      <th>api_est</th>\n",
       "      <th>asian_se</th>\n",
       "      <th>...</th>\n",
       "      <th>nnhwhite_se</th>\n",
       "      <th>nnhwhite_est</th>\n",
       "      <th>other_se</th>\n",
       "      <th>other_est</th>\n",
       "      <th>othermore_se</th>\n",
       "      <th>othermore_est</th>\n",
       "      <th>twomore_se</th>\n",
       "      <th>twomore_est</th>\n",
       "      <th>white_se</th>\n",
       "      <th>white_est</th>\n",
       "    </tr>\n",
       "  </thead>\n",
       "  <tbody>\n",
       "    <tr>\n",
       "      <th>54488</th>\n",
       "      <td>97000US3611760</td>\n",
       "      <td>Garden City Union Free School District, New York</td>\n",
       "      <td>2006-2010</td>\n",
       "      <td>2269</td>\n",
       "      <td>312.120031</td>\n",
       "      <td>74.772034</td>\n",
       "      <td>0</td>\n",
       "      <td>80.044885</td>\n",
       "      <td>56</td>\n",
       "      <td>28.571428</td>\n",
       "      <td>...</td>\n",
       "      <td>362.726966</td>\n",
       "      <td>609</td>\n",
       "      <td>38.905777</td>\n",
       "      <td>111</td>\n",
       "      <td>103.065959</td>\n",
       "      <td>221</td>\n",
       "      <td>95.440727</td>\n",
       "      <td>110</td>\n",
       "      <td>186.626144</td>\n",
       "      <td>1793</td>\n",
       "    </tr>\n",
       "  </tbody>\n",
       "</table>\n",
       "<p>1 rows × 31 columns</p>\n",
       "</div>"
      ],
      "text/plain": [
       "                geoid                                              name  \\\n",
       "54488  97000US3611760  Garden City Union Free School District, New York   \n",
       "\n",
       "            year  total_est    total_se    aian_se  aian_est     api_se  \\\n",
       "54488  2006-2010       2269  312.120031  74.772034         0  80.044885   \n",
       "\n",
       "       api_est   asian_se  ...  nnhwhite_se  nnhwhite_est   other_se  \\\n",
       "54488       56  28.571428  ...   362.726966           609  38.905777   \n",
       "\n",
       "       other_est  othermore_se  othermore_est  twomore_se  twomore_est  \\\n",
       "54488        111    103.065959            221   95.440727          110   \n",
       "\n",
       "         white_se  white_est  \n",
       "54488  186.626144       1793  \n",
       "\n",
       "[1 rows x 31 columns]"
      ]
     },
     "execution_count": 1,
     "metadata": {},
     "output_type": "execute_result"
    }
   ],
   "source": [
    "#source #https://data.diversitydatakids.org/dataset/14007_1_c-individuals-enrolled-in-college-or-graduate-school--count--by-race-ethnicity/resource/0dc65fa3-35ca-4ab5-91ce-d76b945602dd\n",
    "\n",
    "import pandas as pd\n",
    "file = 'schooldistrictdata_ud.csv' #import libraries and file\n",
    "df = pd.read_csv(file)\n",
    "\n",
    "\n",
    "\n",
    "df = df[df['year'] == '2006-2010'] #limit to years that i want\n",
    "#df.head()\n",
    "nf = df[df['name'] == 'Garden City Union Free School District, New York'] #limit to one row/school district\n",
    "nf.head()\n",
    "\n",
    "#nf['aian_est'] + nf['white_est']\n",
    "\n",
    "\n",
    "\n",
    "#dfAsian = df\n",
    "#df.head(20)\n",
    "\n",
    "#def meanfinder(Race):\n",
    "   # dfRace = df[df[''] == Race]\n",
    "    #return sum(dfRace['Mean_Scale_Score'])/len(dfRace['Mean_Scale_Score'])\n",
    "\n",
    "#print((meanfinder('Asian') + meanfinder('Black') + meanfinder('Hispanic'))/3)\n",
    "\n",
    "#meanfinder('White')\n",
    "    "
   ]
  },
  {
   "cell_type": "code",
   "execution_count": 2,
   "id": "5341645f",
   "metadata": {},
   "outputs": [
    {
     "data": {
      "text/plain": [
       "<BarContainer object of 8 artists>"
      ]
     },
     "execution_count": 2,
     "metadata": {},
     "output_type": "execute_result"
    },
    {
     "data": {
      "image/png": "[encoded data removed]",
      "text/plain": [
       "<Figure size 720x720 with 1 Axes>"
      ]
     },
     "metadata": {
      "needs_background": "light"
     },
     "output_type": "display_data"
    }
   ],
   "source": [
    "import matplotlib.pyplot as plt\n",
    "\n",
    "columns = ['total_est', 'aian_est', 'api_est', 'asian_est', 'black_est', 'hisp_est', 'nhopi_est', 'white_est'] #choose what columns im using \n",
    "#nf.head()\n",
    "values = []\n",
    "nf.head() #put thim in a new data frame\n",
    "for i in columns:\n",
    "    x = nf.at[54488, i] #54488 is the row \n",
    "    values.append(x) #append adds the values to the list \n",
    "    \n",
    "#nf = nf.rename(columns = {'aian_est':'American_Indian_Alaska_Native_est', 'api_est':'Asian_Pacific_Islander_est', 'hisp_est':'hispanic_est', 'nhopi_est':'Native_Hawaiian_Other_Pacific_Islander_est'})\n",
    "#nf = nf.rename(columns = {'aian_est':'American_Indian_Alaska_Native_est'})\n",
    "plt.figure(figsize=(10,10))\n",
    "plt.title('Number of Students in Hale County School District, Alabama by Race') #title scatter plot\n",
    "plt.legend(columns)\n",
    "plt.xlabel('Different Races') #label x-axis\n",
    "plt.ylabel('Number of Students'); #label y-axis\n",
    "plt.bar(columns, values)"
   ]
  },
  {
   "cell_type": "code",
   "execution_count": null,
   "id": "04ad786b",
   "metadata": {},
   "outputs": [],
   "source": []
  },
  {
   "cell_type": "code",
   "execution_count": null,
   "id": "bc3cb33d",
   "metadata": {},
   "outputs": [],
   "source": []
  },
  {
   "cell_type": "code",
   "execution_count": null,
   "id": "bb390d77",
   "metadata": {},
   "outputs": [],
   "source": []
  },
  {
   "cell_type": "code",
   "execution_count": null,
   "id": "e61d90ec",
   "metadata": {},
   "outputs": [],
   "source": []
  }
 ],
 "metadata": {
  "kernelspec": {
   "display_name": "Python 3 (ipykernel)",
   "language": "python",
   "name": "python3"
  },
  "language_info": {
   "codemirror_mode": {
    "name": "ipython",
    "version": 3
   },
   "file_extension": ".py",
   "mimetype": "text/x-python",
   "name": "python",
   "nbconvert_exporter": "python",
   "pygments_lexer": "ipython3",
   "version": "3.9.12"
  }
 },
 "nbformat": 4,
 "nbformat_minor": 5
}
